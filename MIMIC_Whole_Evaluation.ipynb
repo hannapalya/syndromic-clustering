{
  "cells": [
    {
      "cell_type": "markdown",
      "metadata": {
        "id": "view-in-github",
        "colab_type": "text"
      },
      "source": [
        "<a href=\"https://colab.research.google.com/github/hannapalya/syndromic-clustering/blob/main/MIMIC_Whole_Evaluation.ipynb\" target=\"_parent\"><img src=\"https://colab.research.google.com/assets/colab-badge.svg\" alt=\"Open In Colab\"/></a>"
      ]
    },
    {
      "cell_type": "code",
      "execution_count": null,
      "metadata": {
        "id": "ECMA-oFQNepK"
      },
      "outputs": [],
      "source": [
        "import re"
      ]
    },
    {
      "cell_type": "code",
      "execution_count": null,
      "metadata": {
        "id": "0x--kCjQP14T"
      },
      "outputs": [],
      "source": [
        "# Function to load and extract text from a .docx file\n",
        "def load_docx(file_path):\n",
        "    doc = Document(file_path)\n",
        "    data = []\n",
        "    for table in doc.tables:\n",
        "        for row in table.rows:\n",
        "            # Extract the cells' text\n",
        "            cells = [cell.text for cell in row.cells]\n",
        "            data.append(cells)\n",
        "    return data"
      ]
    },
    {
      "cell_type": "code",
      "execution_count": null,
      "metadata": {
        "id": "D45XH923QBOR"
      },
      "outputs": [],
      "source": [
        "# Function to identify if the complaint is related to tuberculosis\n",
        "def is_tuberculosis_related(complaint):\n",
        "    keywords = ['tuber']\n",
        "    return any(re.search(keyword, complaint.lower()) for keyword in keywords)\n"
      ]
    },
    {
      "cell_type": "code",
      "execution_count": null,
      "metadata": {
        "id": "Uwamv6lsQD68"
      },
      "outputs": [],
      "source": [
        "import pandas as pd\n",
        "# Load the document\n",
        "data = pd.read_csv('/content/BERT_MIMIC_whole_clustered_dbscan_eps_80_4.csv')  # Replace with your actual file path\n",
        "\n"
      ]
    },
    {
      "cell_type": "code",
      "execution_count": null,
      "metadata": {
        "id": "1z--AEcYcnEV"
      },
      "outputs": [],
      "source": [
        "data"
      ]
    },
    {
      "cell_type": "code",
      "execution_count": null,
      "metadata": {
        "id": "5qLJeTsr8e8q"
      },
      "outputs": [],
      "source": [
        "# Assuming the Chief Complaint is in the 4th column and Cluster Label in the 5th column\n",
        "chief_complaints = data['chiefcomplaint']\n",
        "cluster_labels = data['Cluster']\n"
      ]
    },
    {
      "cell_type": "code",
      "execution_count": null,
      "metadata": {
        "id": "xLliHSjCSv2R"
      },
      "outputs": [],
      "source": [
        "len(cluster_labels)"
      ]
    },
    {
      "cell_type": "code",
      "execution_count": null,
      "metadata": {
        "id": "3S21StLHUmI8"
      },
      "outputs": [],
      "source": [
        "print(chief_complaints)"
      ]
    },
    {
      "cell_type": "code",
      "execution_count": null,
      "metadata": {
        "id": "a8yPMZUyTPTY"
      },
      "outputs": [],
      "source": [
        "print(cluster_labels)"
      ]
    },
    {
      "cell_type": "markdown",
      "metadata": {
        "id": "c0Iw5zLW744g"
      },
      "source": [
        "# Silhouette score"
      ]
    },
    {
      "cell_type": "code",
      "execution_count": null,
      "metadata": {
        "id": "nnnqDf-k8F4s"
      },
      "outputs": [],
      "source": [
        "#!pip install gower\n",
        "import pandas as pd\n",
        "import gower\n",
        "from sklearn.metrics import silhouette_samples\n",
        "\n",
        "# Assuming 'data_vectorized' has a 'date' column for timestamps and a 'cluster_labels' column\n",
        "# Drop columns that should not be part of clustering\n",
        "data_for_clustering = data\n",
        "\n",
        "# Convert 'date' column to datetime if not already\n",
        "#data_for_clustering['date'] = pd.to_datetime(data_for_clustering['date'])\n",
        "\n",
        "# Group by week using pandas Grouper\n",
        "#weekly_groups = data_for_clustering.groupby(pd.Grouper(key='date', freq='W-WED'))\n"
      ]
    },
    {
      "cell_type": "code",
      "execution_count": null,
      "metadata": {
        "id": "vWWQa0SaZ817"
      },
      "outputs": [],
      "source": [
        "#!pip install gower\n",
        "import pandas as pd\n",
        "import gower\n",
        "from sklearn.metrics import silhouette_samples\n",
        "\n",
        "# Assuming 'data' is the full dataset containing the 'date', 'cc', and 'cluster' columns\n",
        "# Drop the 'date', 'cc', and 'cluster' columns for clustering\n",
        "data_for_clustering = data.drop(['subject_id', 'stay_id',\t'chiefcomplaint'\t, 'Cluster'], axis=1)\n",
        "data_for_clustering = data_for_clustering.dropna()\n",
        "filtered_data = data.loc[data_for_clustering.index]\n",
        "\n",
        "#data_for_clustering = data.drop(['Cluster', 'cc'], axis=1)\n",
        "# Compute Gower distance for the entire dataset\n",
        "gower_distances = gower.gower_matrix(data_for_clustering)\n",
        "\n",
        "# Get cluster labels for the entire dataset\n",
        "cluster_labels = data.loc[data_for_clustering.index, 'Cluster'].values\n",
        "# Compute silhouette scores, ignoring noise points (-1 if you have any noise labels)\n",
        "mask = cluster_labels != -2\n",
        "\n",
        "# Check if there are at least 2 unique clusters after applying the mask\n",
        "unique_labels = set(cluster_labels[mask])\n",
        "if len(unique_labels) >= 2 and mask.sum() > 0:  # Proceed only if there are at least 2 unique clusters and samples remaining\n",
        "    silhouette_vals = silhouette_samples(gower_distances[mask][:, mask], cluster_labels[mask], metric=\"precomputed\")\n",
        "\n",
        "    # Initialize dictionary to store the silhouette scores per cluster\n",
        "    cluster_silhouette_scores = {}\n",
        "\n",
        "    # Loop through each unique cluster and calculate the mean silhouette score for that cluster\n",
        "    for cluster in unique_labels:\n",
        "        if cluster != -2:  # Skip noise points\n",
        "            # Get the silhouette scores for points in this cluster\n",
        "            cluster_silhouette_vals = silhouette_vals[cluster_labels[mask] == cluster]\n",
        "\n",
        "            # Compute the mean silhouette score for this cluster\n",
        "            mean_silhouette_score = cluster_silhouette_vals.mean()\n",
        "            cluster_silhouette_scores[cluster] = mean_silhouette_score\n",
        "            print(f\"Cluster: {cluster}, Silhouette Score: {mean_silhouette_score}\")\n",
        "\n",
        "    # Extract the cc's for clusters with a silhouette score >= 0\n",
        "    cc_per_cluster = {}\n",
        "    for cluster, score in cluster_silhouette_scores.items():\n",
        "        if score >= -1:\n",
        "            # Use data to select cc values for the current cluster\n",
        "            cc_values = filtered_data.loc[cluster_labels == cluster, 'chiefcomplaint'].values\n",
        "            cc_per_cluster[cluster] = cc_values\n",
        "\n",
        "else:\n",
        "    # Handle the case where there are less than 2 unique clusters or no samples after applying the mask\n",
        "    print(\"Insufficient unique clusters or no samples found after filtering noise points.\")\n",
        "    cc_per_cluster = {}  # Assign an empty dictionary\n",
        "\n",
        "# Print the clusters with silhouette score >= 0 and their cc values\n",
        "for cluster, cc_values in cc_per_cluster.items():\n",
        "    print(f\"  Cluster {cluster}: cc values = {cc_values}\")"
      ]
    }
  ],
  "metadata": {
    "accelerator": "TPU",
    "colab": {
      "gpuType": "V28",
      "machine_shape": "hm",
      "provenance": [],
      "authorship_tag": "ABX9TyPkBLgkn41TETZQr+ISwwZL",
      "include_colab_link": true
    },
    "kernelspec": {
      "display_name": "Python 3",
      "name": "python3"
    },
    "language_info": {
      "name": "python"
    }
  },
  "nbformat": 4,
  "nbformat_minor": 0
}